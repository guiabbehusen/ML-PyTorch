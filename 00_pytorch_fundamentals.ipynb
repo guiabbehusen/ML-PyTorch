{
  "nbformat": 4,
  "nbformat_minor": 0,
  "metadata": {
    "colab": {
      "provenance": [],
      "authorship_tag": "ABX9TyO2zvSjx6Shf4glHK2fdj2n",
      "include_colab_link": true
    },
    "kernelspec": {
      "name": "python3",
      "display_name": "Python 3"
    },
    "language_info": {
      "name": "python"
    }
  },
  "cells": [
    {
      "cell_type": "markdown",
      "metadata": {
        "id": "view-in-github",
        "colab_type": "text"
      },
      "source": [
        "<a href=\"https://colab.research.google.com/github/guiabbehusen/ML-PyTorch/blob/main/00_pytorch_fundamentals.ipynb\" target=\"_parent\"><img src=\"https://colab.research.google.com/assets/colab-badge.svg\" alt=\"Open In Colab\"/></a>"
      ]
    },
    {
      "cell_type": "code",
      "execution_count": 1,
      "metadata": {
        "colab": {
          "base_uri": "https://localhost:8080/"
        },
        "id": "l8v9O7moEDi8",
        "outputId": "31a73c03-f98e-4598-d129-6f037388f2d1"
      },
      "outputs": [
        {
          "output_type": "stream",
          "name": "stdout",
          "text": [
            "/bin/bash: line 1: nvidia-smi: command not found\n"
          ]
        }
      ],
      "source": [
        "!nvidia-smi"
      ]
    },
    {
      "cell_type": "code",
      "source": [
        "import torch\n",
        "import pandas as pd\n",
        "import numpy as np\n",
        "import matplotlib.pyplot as plt"
      ],
      "metadata": {
        "id": "dkx6WExaFkXF"
      },
      "execution_count": 2,
      "outputs": []
    },
    {
      "cell_type": "code",
      "source": [
        "print(torch.__version__)"
      ],
      "metadata": {
        "colab": {
          "base_uri": "https://localhost:8080/"
        },
        "id": "2p7tBkyvGzW5",
        "outputId": "ba5da6a7-10df-4dba-9251-991a5fcce671"
      },
      "execution_count": 3,
      "outputs": [
        {
          "output_type": "stream",
          "name": "stdout",
          "text": [
            "2.6.0+cu124\n"
          ]
        }
      ]
    },
    {
      "cell_type": "code",
      "source": [
        "#scalar\n",
        "scalar = torch.tensor(7)\n",
        "scalar"
      ],
      "metadata": {
        "colab": {
          "base_uri": "https://localhost:8080/"
        },
        "id": "yu4gh98tG27D",
        "outputId": "8255dabc-5fb2-4d87-8395-fd3109a2e582"
      },
      "execution_count": 4,
      "outputs": [
        {
          "output_type": "execute_result",
          "data": {
            "text/plain": [
              "tensor(7)"
            ]
          },
          "metadata": {},
          "execution_count": 4
        }
      ]
    },
    {
      "cell_type": "code",
      "source": [
        "scalar.ndim"
      ],
      "metadata": {
        "colab": {
          "base_uri": "https://localhost:8080/"
        },
        "id": "808J2BoeQuBy",
        "outputId": "26e68d7b-da51-4539-91c3-5d73861ce834"
      },
      "execution_count": 5,
      "outputs": [
        {
          "output_type": "execute_result",
          "data": {
            "text/plain": [
              "0"
            ]
          },
          "metadata": {},
          "execution_count": 5
        }
      ]
    },
    {
      "cell_type": "code",
      "source": [
        "random_tensor = torch.rand(2, 3, 4, 4)\n",
        "random_tensor"
      ],
      "metadata": {
        "colab": {
          "base_uri": "https://localhost:8080/"
        },
        "id": "oDrzfw-3RM2G",
        "outputId": "7af31904-bbf4-4f0d-e1fb-c95b6f58760d"
      },
      "execution_count": 6,
      "outputs": [
        {
          "output_type": "execute_result",
          "data": {
            "text/plain": [
              "tensor([[[[0.2894, 0.1062, 0.7006, 0.3569],\n",
              "          [0.3609, 0.8146, 0.0226, 0.7251],\n",
              "          [0.9147, 0.5936, 0.5245, 0.8949],\n",
              "          [0.4798, 0.3657, 0.0500, 0.2972]],\n",
              "\n",
              "         [[0.5961, 0.5284, 0.9861, 0.7386],\n",
              "          [0.8022, 0.2861, 0.2788, 0.4907],\n",
              "          [0.1947, 0.5806, 0.3402, 0.8412],\n",
              "          [0.9955, 0.9487, 0.3339, 0.0293]],\n",
              "\n",
              "         [[0.7072, 0.2931, 0.5496, 0.4190],\n",
              "          [0.2323, 0.7662, 0.7365, 0.3563],\n",
              "          [0.1369, 0.2197, 0.2824, 0.7118],\n",
              "          [0.4834, 0.6887, 0.6236, 0.0293]]],\n",
              "\n",
              "\n",
              "        [[[0.5029, 0.4886, 0.5420, 0.9005],\n",
              "          [0.8447, 0.7750, 0.2616, 0.2592],\n",
              "          [0.8663, 0.0134, 0.0871, 0.0722],\n",
              "          [0.3572, 0.1974, 0.5476, 0.0433]],\n",
              "\n",
              "         [[0.4845, 0.6416, 0.9447, 0.9046],\n",
              "          [0.0216, 0.3087, 0.4811, 0.2491],\n",
              "          [0.8939, 0.1425, 0.4847, 0.1729],\n",
              "          [0.0311, 0.5044, 0.0199, 0.3581]],\n",
              "\n",
              "         [[0.6714, 0.7642, 0.9336, 0.0842],\n",
              "          [0.7515, 0.4496, 0.1524, 0.9813],\n",
              "          [0.6055, 0.2253, 0.8672, 0.6344],\n",
              "          [0.8698, 0.5551, 0.5369, 0.0421]]]])"
            ]
          },
          "metadata": {},
          "execution_count": 6
        }
      ]
    },
    {
      "cell_type": "code",
      "source": [
        "tensor_A = torch.tensor([[1, 2, 3],\n",
        "                         [3, 4, 5]])"
      ],
      "metadata": {
        "id": "KLognmlmWLHr"
      },
      "execution_count": 7,
      "outputs": []
    },
    {
      "cell_type": "code",
      "source": [
        "tensor_B = torch.tensor([[10, 11, 12],\n",
        "                         [11, 11, 10]])"
      ],
      "metadata": {
        "id": "GahTDQRDvsxg"
      },
      "execution_count": 8,
      "outputs": []
    },
    {
      "cell_type": "code",
      "source": [
        "print(torch.matmul(tensor_A,tensor_B.T))"
      ],
      "metadata": {
        "colab": {
          "base_uri": "https://localhost:8080/"
        },
        "id": "N_8dB7r_v5mr",
        "outputId": "b0444998-2ea0-48fe-fafe-a1b89169f8e7"
      },
      "execution_count": 9,
      "outputs": [
        {
          "output_type": "stream",
          "name": "stdout",
          "text": [
            "tensor([[ 68,  63],\n",
            "        [134, 127]])\n"
          ]
        }
      ]
    },
    {
      "cell_type": "code",
      "source": [
        "tensor2 = torch.randn(10)\n",
        "tensor2 = tensor2.int()"
      ],
      "metadata": {
        "id": "Rcds6gmvv8SQ"
      },
      "execution_count": 10,
      "outputs": []
    },
    {
      "cell_type": "code",
      "source": [
        "tensor2"
      ],
      "metadata": {
        "colab": {
          "base_uri": "https://localhost:8080/"
        },
        "id": "dAL5t9GIx2HQ",
        "outputId": "1680f823-f8f0-43fc-ebb2-8981f82bb928"
      },
      "execution_count": 11,
      "outputs": [
        {
          "output_type": "execute_result",
          "data": {
            "text/plain": [
              "tensor([ 0,  0, -1,  0,  0,  0,  0,  0,  0,  0], dtype=torch.int32)"
            ]
          },
          "metadata": {},
          "execution_count": 11
        }
      ]
    },
    {
      "cell_type": "code",
      "source": [
        "x = torch.arange(1., 10.)"
      ],
      "metadata": {
        "id": "kGU6f-12yETx"
      },
      "execution_count": 12,
      "outputs": []
    },
    {
      "cell_type": "code",
      "source": [
        "x, x.shape"
      ],
      "metadata": {
        "colab": {
          "base_uri": "https://localhost:8080/"
        },
        "id": "KXiHPD9Fz_86",
        "outputId": "841450a7-a575-4e4a-a1dc-2a09671e51f0"
      },
      "execution_count": 13,
      "outputs": [
        {
          "output_type": "execute_result",
          "data": {
            "text/plain": [
              "(tensor([1., 2., 3., 4., 5., 6., 7., 8., 9.]), torch.Size([9]))"
            ]
          },
          "metadata": {},
          "execution_count": 13
        }
      ]
    },
    {
      "cell_type": "code",
      "source": [
        "x_reshaped = x.reshape(1, 9)\n",
        "x_reshaped, x_reshaped.shape"
      ],
      "metadata": {
        "colab": {
          "base_uri": "https://localhost:8080/"
        },
        "id": "jSvn1m-T0BgD",
        "outputId": "33093613-b4b2-4b96-86ef-5ca18e6b7d99"
      },
      "execution_count": 14,
      "outputs": [
        {
          "output_type": "execute_result",
          "data": {
            "text/plain": [
              "(tensor([[1., 2., 3., 4., 5., 6., 7., 8., 9.]]), torch.Size([1, 9]))"
            ]
          },
          "metadata": {},
          "execution_count": 14
        }
      ]
    },
    {
      "cell_type": "code",
      "source": [
        "z = x.view(1, 9)\n",
        "z"
      ],
      "metadata": {
        "colab": {
          "base_uri": "https://localhost:8080/"
        },
        "id": "1-OhORJk0Rad",
        "outputId": "ad7a1add-6f75-42f0-c9e0-8b05773c8467"
      },
      "execution_count": 15,
      "outputs": [
        {
          "output_type": "execute_result",
          "data": {
            "text/plain": [
              "tensor([[1., 2., 3., 4., 5., 6., 7., 8., 9.]])"
            ]
          },
          "metadata": {},
          "execution_count": 15
        }
      ]
    },
    {
      "cell_type": "code",
      "source": [
        "x_stacked = torch.stack([x, x, x, x], dim=0)\n",
        "x_stacked"
      ],
      "metadata": {
        "colab": {
          "base_uri": "https://localhost:8080/"
        },
        "id": "2VvTxy_Y1ags",
        "outputId": "c46dff91-e5a1-441b-faff-d40015bd1074"
      },
      "execution_count": 16,
      "outputs": [
        {
          "output_type": "execute_result",
          "data": {
            "text/plain": [
              "tensor([[1., 2., 3., 4., 5., 6., 7., 8., 9.],\n",
              "        [1., 2., 3., 4., 5., 6., 7., 8., 9.],\n",
              "        [1., 2., 3., 4., 5., 6., 7., 8., 9.],\n",
              "        [1., 2., 3., 4., 5., 6., 7., 8., 9.]])"
            ]
          },
          "metadata": {},
          "execution_count": 16
        }
      ]
    },
    {
      "cell_type": "code",
      "source": [
        "x_reshaped"
      ],
      "metadata": {
        "colab": {
          "base_uri": "https://localhost:8080/"
        },
        "id": "p2Z_AT2r2hnE",
        "outputId": "93408ef4-3f17-4049-8761-5017c7fe11b3"
      },
      "execution_count": 17,
      "outputs": [
        {
          "output_type": "execute_result",
          "data": {
            "text/plain": [
              "tensor([[1., 2., 3., 4., 5., 6., 7., 8., 9.]])"
            ]
          },
          "metadata": {},
          "execution_count": 17
        }
      ]
    },
    {
      "cell_type": "code",
      "source": [
        "x_reshaped.squeeze()"
      ],
      "metadata": {
        "colab": {
          "base_uri": "https://localhost:8080/"
        },
        "id": "uG0tsJJP3ldH",
        "outputId": "590b396a-6394-4b15-fd34-707b38991929"
      },
      "execution_count": 18,
      "outputs": [
        {
          "output_type": "execute_result",
          "data": {
            "text/plain": [
              "tensor([1., 2., 3., 4., 5., 6., 7., 8., 9.])"
            ]
          },
          "metadata": {},
          "execution_count": 18
        }
      ]
    },
    {
      "cell_type": "code",
      "source": [],
      "metadata": {
        "id": "PrxfDoVF3o91"
      },
      "execution_count": 18,
      "outputs": []
    }
  ]
}